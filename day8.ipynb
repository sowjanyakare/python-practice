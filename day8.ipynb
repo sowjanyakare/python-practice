{
 "cells": [
  {
   "cell_type": "code",
   "execution_count": 6,
   "metadata": {},
   "outputs": [
    {
     "name": "stdout",
     "output_type": "stream",
     "text": [
      "enter a value6\n",
      "positive number\n"
     ]
    }
   ],
   "source": [
    "# positive or negtive number\n",
    "def number(a):\n",
    "    if(a>=0):\n",
    "        print('positive number')\n",
    "    else:\n",
    "        print('negitive number')\n",
    "n=int(input('enter a value'))\n",
    "number(n)"
   ]
  },
  {
   "cell_type": "code",
   "execution_count": 7,
   "metadata": {},
   "outputs": [
    {
     "name": "stdout",
     "output_type": "stream",
     "text": [
      "24\n",
      "even\n"
     ]
    }
   ],
   "source": [
    "# even or odd\n",
    "def evenorodd(n):\n",
    "    if n%2==0:\n",
    "        print(\"even\")\n",
    "    else:\n",
    "        print('odd')\n",
    "n=int(input())\n",
    "evenorodd(n)\n",
    "        "
   ]
  },
  {
   "cell_type": "code",
   "execution_count": 42,
   "metadata": {},
   "outputs": [
    {
     "name": "stdout",
     "output_type": "stream",
     "text": [
      "enter any year2003\n",
      "leap year\n"
     ]
    }
   ],
   "source": [
    "# leap year or not\n",
    "def year(n):\n",
    "    if n%4 and n%100 and n%400:\n",
    "        print(\"leap year\")\n",
    "    elif(n%4 or n%100):\n",
    "        print(\"leap year\")\n",
    "    else:\n",
    "        print('not a leap year')\n",
    "a=int(input('enter any year'))\n",
    "year(a)"
   ]
  },
  {
   "cell_type": "code",
   "execution_count": 26,
   "metadata": {},
   "outputs": [
    {
     "name": "stdout",
     "output_type": "stream",
     "text": [
      "enter a alphabeta\n",
      "alphabet is vowel\n"
     ]
    }
   ],
   "source": [
    "# vowel or consonent\n",
    "def alphabets(a):\n",
    "    if(a==\"a\" or a=='e' or a=='i' or a=='o' or a=='u' or a=='A' or  a=='E' or a=='I' or a=='O' or a=='U'):\n",
    "        print(\"alphabet is vowel\")\n",
    "    else:\n",
    "        print('consonant')\n",
    "n=(input('enter a alphabet'))\n",
    "alphabets(n)"
   ]
  },
  {
   "cell_type": "code",
   "execution_count": 27,
   "metadata": {},
   "outputs": [
    {
     "name": "stdout",
     "output_type": "stream",
     "text": [
      "enter first number2\n",
      "enter second number3\n",
      "not equal\n"
     ]
    }
   ],
   "source": [
    "# two numbers equal or not\n",
    "def equal(a,b):\n",
    "    if(a==b):\n",
    "        print('number are equal')\n",
    "    else:\n",
    "        print('not equal')\n",
    "n=int(input('enter first number'))\n",
    "m=int(input('enter second number'))\n",
    "equal(n,m)\n"
   ]
  },
  {
   "cell_type": "code",
   "execution_count": 31,
   "metadata": {},
   "outputs": [
    {
     "name": "stdout",
     "output_type": "stream",
     "text": [
      "enter first number3\n",
      "enter second number1\n",
      "3 is big\n"
     ]
    }
   ],
   "source": [
    "# biggest of two numbers\n",
    "def biggest(a,b):\n",
    "    if(a>b):\n",
    "        print(a,'is big')\n",
    "    else:\n",
    "        print(b,'is big')\n",
    "n=int(input('enter first number'))\n",
    "m=int(input('enter second number'))\n",
    "biggest(n,m)"
   ]
  },
  {
   "cell_type": "code",
   "execution_count": null,
   "metadata": {},
   "outputs": [],
   "source": []
  }
 ],
 "metadata": {
  "kernelspec": {
   "display_name": "Python 3",
   "language": "python",
   "name": "python3"
  },
  "language_info": {
   "codemirror_mode": {
    "name": "ipython",
    "version": 3
   },
   "file_extension": ".py",
   "mimetype": "text/x-python",
   "name": "python",
   "nbconvert_exporter": "python",
   "pygments_lexer": "ipython3",
   "version": "3.7.4"
  }
 },
 "nbformat": 4,
 "nbformat_minor": 4
}
