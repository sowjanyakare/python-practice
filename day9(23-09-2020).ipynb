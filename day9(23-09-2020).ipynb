{
 "cells": [
  {
   "cell_type": "markdown",
   "metadata": {},
   "source": [
    "## data structures\n",
    "- strings\n",
    "- tuples\n",
    "- list\n",
    "- dictonary\n"
   ]
  },
  {
   "cell_type": "code",
   "execution_count": 3,
   "metadata": {},
   "outputs": [
    {
     "name": "stdout",
     "output_type": "stream",
     "text": [
      "<class 'str'>\n"
     ]
    }
   ],
   "source": [
    "# strings\n",
    "d='sowjanya'\n",
    "print(type(d))"
   ]
  },
  {
   "cell_type": "code",
   "execution_count": 3,
   "metadata": {},
   "outputs": [
    {
     "name": "stdout",
     "output_type": "stream",
     "text": [
      "n\n"
     ]
    }
   ],
   "source": [
    "print(d[-3])"
   ]
  },
  {
   "cell_type": "code",
   "execution_count": 4,
   "metadata": {},
   "outputs": [
    {
     "name": "stdout",
     "output_type": "stream",
     "text": [
      "s\n",
      "o\n",
      "w\n",
      "j\n",
      "i\n"
     ]
    }
   ],
   "source": [
    "for m in 'sowji':\n",
    "    print(m)"
   ]
  },
  {
   "cell_type": "code",
   "execution_count": 7,
   "metadata": {},
   "outputs": [
    {
     "name": "stdout",
     "output_type": "stream",
     "text": [
      "j\n"
     ]
    }
   ],
   "source": [
    "for m in range(len(d)):\n",
    "    if m==3:\n",
    "        print(d[m])"
   ]
  },
  {
   "cell_type": "code",
   "execution_count": 5,
   "metadata": {},
   "outputs": [
    {
     "data": {
      "text/plain": [
       "'sowjanya'"
      ]
     },
     "execution_count": 5,
     "metadata": {},
     "output_type": "execute_result"
    }
   ],
   "source": [
    "d[:]"
   ]
  },
  {
   "cell_type": "markdown",
   "metadata": {},
   "source": [
    "- d[index]\n",
    "- d[start:]-> d[1:]\n",
    "- d[:end] -> p[:2]\n",
    "- p[start:end:steppping] -> -for step\n"
   ]
  },
  {
   "cell_type": "code",
   "execution_count": 15,
   "metadata": {},
   "outputs": [
    {
     "name": "stdout",
     "output_type": "stream",
     "text": [
      "14\n",
      "a\n",
      "a\n",
      "wjanya reddy\n",
      "ddy\n",
      "sowjanya \n",
      "sowjanya \n",
      "sowjanya reddy\n"
     ]
    }
   ],
   "source": [
    "m='sowjanya reddy'\n",
    "print(len(m))\n",
    "print(m[4])\n",
    "print(m[-7])\n",
    "print(m[2:])\n",
    "print(m[-3:])\n",
    "print(m[:9])\n",
    "print(m[:-5])\n",
    "print(m[:])"
   ]
  },
  {
   "cell_type": "code",
   "execution_count": 26,
   "metadata": {},
   "outputs": [
    {
     "name": "stdout",
     "output_type": "stream",
     "text": [
      "sowjanya reddy\n",
      "sowjanya reddy\n",
      "janya reddy\n",
      "eddy\n",
      "sowjanya\n",
      "sowjanya re\n",
      "anya r\n",
      "wjanya\n",
      "\n",
      "\n"
     ]
    }
   ],
   "source": [
    "print(m)\n",
    "print(m[::])\n",
    "print(m[3::])\n",
    "print(m[-4::])\n",
    "print(m[:8:])\n",
    "print(m[:-3:])\n",
    "print(m[4:10:])\n",
    "print(m[2:-6:])\n",
    "print(m[-1:-3:]) # no output\n",
    "print(m[-1:2:])"
   ]
  },
  {
   "cell_type": "code",
   "execution_count": 31,
   "metadata": {},
   "outputs": [
    {
     "name": "stdout",
     "output_type": "stream",
     "text": [
      "sowjanya reddy\n",
      "wn d\n",
      "aws\n",
      "ae\n",
      "r aynaj\n",
      "rn\n",
      "dran\n"
     ]
    }
   ],
   "source": [
    "print(m)\n",
    "print(m[2::3])\n",
    "print(m[4::-2])\n",
    "print(m[7:11:3])\n",
    "print(m[9:2:-1])\n",
    "print(m[9:-10:-4])\n",
    "print(m[-3:4:-2])\n"
   ]
  },
  {
   "cell_type": "markdown",
   "metadata": {},
   "source": [
    "- 0 1 2 3 4 5 6 7 \n",
    "- s o w j a n y a\n",
    "--8-7-6-5-4-3-2-1\n",
    "\n",
    " - firstname    - lastname\n",
    " - sowjnya      - reddy\n",
    " - sowXXXXXXXXdy\n",
    " - 78XXXXXXX89"
   ]
  },
  {
   "cell_type": "code",
   "execution_count": 33,
   "metadata": {},
   "outputs": [
    {
     "name": "stdout",
     "output_type": "stream",
     "text": [
      "sou\n",
      "xxxx\n",
      "souxxxxdy\n",
      "ddyxxxxdy\n"
     ]
    }
   ],
   "source": [
    "w='soujanya reddy'\n",
    "t=w[:3]\n",
    "y='x'*4\n",
    "q=w[-2:]\n",
    "e=t+y+q\n",
    "a=w[-3:]+'x'*4+w[-2:]\n",
    "print(t)\n",
    "print(y)\n",
    "print(e)\n",
    "print(a)\n"
   ]
  },
  {
   "cell_type": "code",
   "execution_count": 34,
   "metadata": {},
   "outputs": [
    {
     "name": "stdout",
     "output_type": "stream",
     "text": [
      "['__add__', '__class__', '__contains__', '__delattr__', '__dir__', '__doc__', '__eq__', '__format__', '__ge__', '__getattribute__', '__getitem__', '__getnewargs__', '__gt__', '__hash__', '__init__', '__init_subclass__', '__iter__', '__le__', '__len__', '__lt__', '__mod__', '__mul__', '__ne__', '__new__', '__reduce__', '__reduce_ex__', '__repr__', '__rmod__', '__rmul__', '__setattr__', '__sizeof__', '__str__', '__subclasshook__', 'capitalize', 'casefold', 'center', 'count', 'encode', 'endswith', 'expandtabs', 'find', 'format', 'format_map', 'index', 'isalnum', 'isalpha', 'isascii', 'isdecimal', 'isdigit', 'isidentifier', 'islower', 'isnumeric', 'isprintable', 'isspace', 'istitle', 'isupper', 'join', 'ljust', 'lower', 'lstrip', 'maketrans', 'partition', 'replace', 'rfind', 'rindex', 'rjust', 'rpartition', 'rsplit', 'rstrip', 'split', 'splitlines', 'startswith', 'strip', 'swapcase', 'title', 'translate', 'upper', 'zfill']\n"
     ]
    }
   ],
   "source": [
    "print(dir(str))"
   ]
  },
  {
   "cell_type": "code",
   "execution_count": null,
   "metadata": {},
   "outputs": [],
   "source": []
  }
 ],
 "metadata": {
  "kernelspec": {
   "display_name": "Python 3",
   "language": "python",
   "name": "python3"
  },
  "language_info": {
   "codemirror_mode": {
    "name": "ipython",
    "version": 3
   },
   "file_extension": ".py",
   "mimetype": "text/x-python",
   "name": "python",
   "nbconvert_exporter": "python",
   "pygments_lexer": "ipython3",
   "version": "3.7.4"
  }
 },
 "nbformat": 4,
 "nbformat_minor": 4
}
