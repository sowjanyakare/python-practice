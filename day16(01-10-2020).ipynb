{
 "cells": [
  {
   "cell_type": "markdown",
   "metadata": {},
   "source": [
    "### file handling\n",
    "- what is a file\n",
    "- 3"
   ]
  },
  {
   "cell_type": "code",
   "execution_count": 29,
   "metadata": {},
   "outputs": [
    {
     "name": "stdout",
     "output_type": "stream",
     "text": [
      "done\n"
     ]
    }
   ],
   "source": [
    "# creating a file\n",
    "f=open('file.txt','w')\n",
    "data='welcome to python internship program'\n",
    "f.write(data)\n",
    "print('done')\n",
    "f.close()"
   ]
  },
  {
   "cell_type": "code",
   "execution_count": 6,
   "metadata": {},
   "outputs": [
    {
     "name": "stdout",
     "output_type": "stream",
     "text": [
      "welcome to python internship program\n"
     ]
    }
   ],
   "source": [
    "# reading data\n",
    "file=open('file.txt','r')\n",
    "data1=file.read()\n",
    "print(data1)\n",
    "file.close()\n"
   ]
  },
  {
   "cell_type": "code",
   "execution_count": 21,
   "metadata": {},
   "outputs": [
    {
     "name": "stdout",
     "output_type": "stream",
     "text": [
      "done\n"
     ]
    }
   ],
   "source": [
    "f=open('file.txt','a')\n",
    "data='welcome to python internship program'\n",
    "f.write(data)\n",
    "print('done')\n",
    "f.close()"
   ]
  },
  {
   "cell_type": "code",
   "execution_count": 9,
   "metadata": {},
   "outputs": [
    {
     "name": "stdout",
     "output_type": "stream",
     "text": [
      "welcome to python internship programwelcome to python internship program\n"
     ]
    }
   ],
   "source": [
    "with open('file.txt','r') as file:\n",
    "    data = file.read()\n",
    "    print(data)"
   ]
  },
  {
   "cell_type": "code",
   "execution_count": 10,
   "metadata": {},
   "outputs": [
    {
     "name": "stdout",
     "output_type": "stream",
     "text": [
      "enter some dataim sowjanya studing polytechnic\n",
      "completed....................\n"
     ]
    }
   ],
   "source": [
    "file=open('file2.txt','w')\n",
    "file.write(input('enter some data'))\n",
    "print('completed'+('.'*20))"
   ]
  },
  {
   "cell_type": "code",
   "execution_count": 38,
   "metadata": {},
   "outputs": [
    {
     "ename": "FileNotFoundError",
     "evalue": "[Errno 2] No such file or directory: 'C:\\\\Users\\\\HP\\\\Documents.txt'",
     "output_type": "error",
     "traceback": [
      "\u001b[1;31m---------------------------------------------------------------------------\u001b[0m",
      "\u001b[1;31mFileNotFoundError\u001b[0m                         Traceback (most recent call last)",
      "\u001b[1;32m<ipython-input-38-cb1048cc4f1e>\u001b[0m in \u001b[0;36m<module>\u001b[1;34m\u001b[0m\n\u001b[0;32m      2\u001b[0m \u001b[1;31m# \\ replace /\u001b[0m\u001b[1;33m\u001b[0m\u001b[1;33m\u001b[0m\u001b[1;33m\u001b[0m\u001b[0m\n\u001b[0;32m      3\u001b[0m \u001b[1;31m# r ->rawpath or raw location,r'd:\\''\u001b[0m\u001b[1;33m\u001b[0m\u001b[1;33m\u001b[0m\u001b[1;33m\u001b[0m\u001b[0m\n\u001b[1;32m----> 4\u001b[1;33m \u001b[0mf\u001b[0m\u001b[1;33m=\u001b[0m\u001b[0mopen\u001b[0m\u001b[1;33m(\u001b[0m\u001b[1;34m'C:\\\\Users\\\\HP\\\\Documents.txt'\u001b[0m\u001b[1;33m,\u001b[0m\u001b[1;34m'r'\u001b[0m\u001b[1;33m)\u001b[0m\u001b[1;33m\u001b[0m\u001b[1;33m\u001b[0m\u001b[0m\n\u001b[0m\u001b[0;32m      5\u001b[0m \u001b[0md\u001b[0m\u001b[1;33m=\u001b[0m\u001b[0mf\u001b[0m\u001b[1;33m.\u001b[0m\u001b[0mread\u001b[0m\u001b[1;33m(\u001b[0m\u001b[1;33m)\u001b[0m\u001b[1;33m\u001b[0m\u001b[1;33m\u001b[0m\u001b[0m\n\u001b[0;32m      6\u001b[0m \u001b[0mprint\u001b[0m\u001b[1;33m(\u001b[0m\u001b[0md\u001b[0m\u001b[1;33m)\u001b[0m\u001b[1;33m\u001b[0m\u001b[1;33m\u001b[0m\u001b[0m\n",
      "\u001b[1;31mFileNotFoundError\u001b[0m: [Errno 2] No such file or directory: 'C:\\\\Users\\\\HP\\\\Documents.txt'"
     ]
    }
   ],
   "source": [
    "# \\ replace \\\\\n",
    "# \\ replace /\n",
    "# r ->rawpath or raw location,r'd:\\''\n",
    "f=open('C:\\\\Users\\HP\\Documents.txt','r')\n",
    "d=f.read()\n",
    "print(d)\n",
    "f.close()\n"
   ]
  },
  {
   "cell_type": "code",
   "execution_count": 7,
   "metadata": {},
   "outputs": [
    {
     "name": "stdout",
     "output_type": "stream",
     "text": [
      "11\n",
      "welcome to \n",
      "20\n"
     ]
    }
   ],
   "source": [
    "f=open('file.txt','r')\n",
    "data=f.read(11)\n",
    "print(f.tell())# TO KNOW CURSOR POSITION\n",
    "print(data)\n",
    "f.seek(20)# to change cursor position\n",
    "print(f.tell())\n",
    "f.close()"
   ]
  },
  {
   "cell_type": "markdown",
   "metadata": {},
   "source": [
    "- task -\n",
    "- read the data in reverse order"
   ]
  },
  {
   "cell_type": "code",
   "execution_count": 25,
   "metadata": {},
   "outputs": [
    {
     "name": "stdout",
     "output_type": "stream",
     "text": [
      "margorp pihsnretni nohtyp ot emoclew\n"
     ]
    }
   ],
   "source": [
    "with open('file.txt','r') as file:\n",
    "    data = file.read()\n",
    "    print(data[::-1])"
   ]
  },
  {
   "cell_type": "code",
   "execution_count": 23,
   "metadata": {},
   "outputs": [
    {
     "data": {
      "text/plain": [
       "'gnirts'"
      ]
     },
     "execution_count": 23,
     "metadata": {},
     "output_type": "execute_result"
    }
   ],
   "source": [
    "a='string'\n",
    "#gnirts\n",
    "a[::-1]"
   ]
  },
  {
   "cell_type": "code",
   "execution_count": 30,
   "metadata": {},
   "outputs": [
    {
     "name": "stdout",
     "output_type": "stream",
     "text": [
      "['welcome to python internship program']\n"
     ]
    }
   ],
   "source": [
    "with open('file.txt','r') as file:\n",
    "    data=file.readlines()\n",
    "    for i in data:\n",
    "        print(data)"
   ]
  },
  {
   "cell_type": "code",
   "execution_count": 37,
   "metadata": {},
   "outputs": [
    {
     "name": "stdout",
     "output_type": "stream",
     "text": [
      "['welcome to python internship program']\n",
      "welcome to python internship program everyline\n",
      "['welcome', 'to', 'python', 'internship', 'program'] words\n",
      "5 length\n"
     ]
    }
   ],
   "source": [
    "# split the data and find how many words are present in ecah line\n",
    "with open('file.txt','r') as file:\n",
    "    data=file.readlines()\n",
    "    print(data)\n",
    "    for lines in data:\n",
    "        print(lines,'everyline')\n",
    "        words= lines.split(' ')\n",
    "        print(words,'words')\n",
    "        #print(words)\n",
    "        print(len(words),'length')"
   ]
  },
  {
   "cell_type": "code",
   "execution_count": 17,
   "metadata": {},
   "outputs": [
    {
     "name": "stdout",
     "output_type": "stream",
     "text": [
      "w\n",
      "e\n",
      "l\n",
      "c\n",
      "o\n",
      "m\n",
      "e\n",
      " \n",
      "t\n",
      "o\n",
      " \n",
      "p\n",
      "y\n",
      "t\n",
      "h\n",
      "o\n",
      "n\n",
      " \n",
      "i\n",
      "n\n",
      "t\n",
      "e\n",
      "r\n",
      "n\n",
      "s\n",
      "h\n",
      "i\n",
      "p\n",
      " \n",
      "p\n",
      "r\n",
      "o\n",
      "g\n",
      "r\n",
      "a\n",
      "m\n",
      "w\n",
      "e\n",
      "l\n",
      "c\n",
      "o\n",
      "m\n",
      "e\n",
      " \n",
      "t\n",
      "o\n",
      " \n",
      "p\n",
      "y\n",
      "t\n",
      "h\n",
      "o\n",
      "n\n",
      " \n",
      "i\n",
      "n\n",
      "t\n",
      "e\n",
      "r\n",
      "n\n",
      "s\n",
      "h\n",
      "i\n",
      "p\n",
      " \n",
      "p\n",
      "r\n",
      "o\n",
      "g\n",
      "r\n",
      "a\n",
      "m\n"
     ]
    }
   ],
   "source": [
    "with open('file.txt','r') as file:\n",
    "    data=file.read()\n",
    "    for ele in data:\n",
    "        print(ele)"
   ]
  },
  {
   "cell_type": "code",
   "execution_count": 1,
   "metadata": {},
   "outputs": [
    {
     "name": "stdout",
     "output_type": "stream",
     "text": [
      "['welcome to python internship program']\n",
      "welcome to python internship program everyline\n",
      "['welcome', 'to', 'python', 'internship', 'program'] words\n",
      "5 length\n"
     ]
    }
   ],
   "source": [
    "# find the length of each word and also print the word\n",
    "with open('file.txt','r') as file:\n",
    "    data=file.readlines()\n",
    "    print(data)\n",
    "    for lines in data:\n",
    "        print(lines,'everyline')\n",
    "        words= lines.split(' ')\n",
    "        print(words,'words')\n",
    "        #print(words)\n",
    "        print(len(words),'length')"
   ]
  },
  {
   "cell_type": "code",
   "execution_count": 2,
   "metadata": {},
   "outputs": [],
   "source": [
    "# task\n",
    "# find out the frequency of each word\n",
    "# 'hi hello hii hello everyone'\n",
    "# d={'hii':2,'hello:2','everyone':1}\n",
    "file=open('file.txt','w')\n",
    "data='hai hello hi hello welcome'\n",
    "file.write(data)\n",
    "\n",
    "file.close()\n"
   ]
  },
  {
   "cell_type": "code",
   "execution_count": 10,
   "metadata": {},
   "outputs": [
    {
     "name": "stdout",
     "output_type": "stream",
     "text": [
      "['hai hello hi hello welcome']\n",
      "['hai', 'hello', 'hi', 'hello', 'welcome']\n",
      "{'hai': 1, 'hello': 2, 'hi': 1, 'welcome': 1}\n"
     ]
    }
   ],
   "source": [
    "d={}\n",
    "file=open('file.txt','r')\n",
    "data=file.readlines()\n",
    "print(data)\n",
    "for line in data:\n",
    "    words=line.split()\n",
    "    print(words)\n",
    "    for word in words:\n",
    "        if word not in d:\n",
    "            d[word]=1\n",
    "        else:\n",
    "            d[word]+=1\n",
    "print(d)\n",
    "    \n",
    "file.close()\n"
   ]
  },
  {
   "cell_type": "code",
   "execution_count": 40,
   "metadata": {},
   "outputs": [
    {
     "name": "stdout",
     "output_type": "stream",
     "text": [
      "enter data8\n"
     ]
    }
   ],
   "source": [
    "# f=open('file.txt','a')\n",
    "# range as 3->10,20,30 and print the sum\n",
    "f=open('file3.txt','a')\n",
    "f.write((input('enter data'))+'\\n')\n",
    "f.close()\n",
    "\n"
   ]
  },
  {
   "cell_type": "code",
   "execution_count": null,
   "metadata": {},
   "outputs": [],
   "source": [
    "f=open()"
   ]
  }
 ],
 "metadata": {
  "kernelspec": {
   "display_name": "Python 3",
   "language": "python",
   "name": "python3"
  },
  "language_info": {
   "codemirror_mode": {
    "name": "ipython",
    "version": 3
   },
   "file_extension": ".py",
   "mimetype": "text/x-python",
   "name": "python",
   "nbconvert_exporter": "python",
   "pygments_lexer": "ipython3",
   "version": "3.7.4"
  }
 },
 "nbformat": 4,
 "nbformat_minor": 4
}
