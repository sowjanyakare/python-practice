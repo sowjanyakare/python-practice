{
 "cells": [
  {
   "cell_type": "code",
   "execution_count": 16,
   "metadata": {},
   "outputs": [
    {
     "name": "stdout",
     "output_type": "stream",
     "text": [
      "enter the number123\n",
      "3\n"
     ]
    }
   ],
   "source": [
    "#task\n",
    "n=int(input('enter the number'))\n",
    "s=0\n",
    "while(n>0):\n",
    "    r=n%10\n",
    "    n=n//10\n",
    "    s=s+1\n",
    "print(s)"
   ]
  },
  {
   "cell_type": "code",
   "execution_count": 15,
   "metadata": {},
   "outputs": [
    {
     "name": "stdout",
     "output_type": "stream",
     "text": [
      "enter the number121\n",
      "the number is pallindrome\n"
     ]
    }
   ],
   "source": [
    "# task\n",
    "# pallin drome or not\n",
    "\n",
    "n=int(input('enter the number'))\n",
    "temp=n\n",
    "s=0\n",
    "while(n>0):\n",
    "    r=n%10\n",
    "    s=s*10+r\n",
    "    n=n//10\n",
    "if(temp==s):\n",
    "    print('the number is pallindrome')\n",
    "else:\n",
    "    print('the number is not palindrome')"
   ]
  },
  {
   "cell_type": "code",
   "execution_count": 18,
   "metadata": {},
   "outputs": [
    {
     "name": "stdout",
     "output_type": "stream",
     "text": [
      "enter the number22082002\n",
      "7\n"
     ]
    }
   ],
   "source": [
    "#task\n",
    "# sum the given digit upto get single digit\n",
    "n=int(input('enter the number'))\n",
    "s=0\n",
    "while(n>0 or s>9):\n",
    "    if(n==0):\n",
    "        n=s\n",
    "        s=0\n",
    "    r=n%10\n",
    "    s=s+r\n",
    "    n=n//10\n",
    "print(s)"
   ]
  },
  {
   "cell_type": "code",
   "execution_count": 31,
   "metadata": {},
   "outputs": [
    {
     "name": "stdout",
     "output_type": "stream",
     "text": [
      "enter the number153\n",
      "number is armstrong\n"
     ]
    }
   ],
   "source": [
    "#find the given number is armstro153ng or not\n",
    "# sum of cubes of individual number\n",
    "#task\n",
    "n=int(input('enter the number'))\n",
    "l=len(str(n))\n",
    "a=0\n",
    "temp=n\n",
    "while(n>0):\n",
    "    r=n%10\n",
    "    a=a+pow(r,l)\n",
    "    n=n//10\n",
    "if(temp==a):\n",
    "    print('number is armstrong')\n",
    "else:\n",
    "    print('not armstrong')\n"
   ]
  },
  {
   "cell_type": "code",
   "execution_count": null,
   "metadata": {},
   "outputs": [],
   "source": []
  }
 ],
 "metadata": {
  "kernelspec": {
   "display_name": "Python 3",
   "language": "python",
   "name": "python3"
  },
  "language_info": {
   "codemirror_mode": {
    "name": "ipython",
    "version": 3
   },
   "file_extension": ".py",
   "mimetype": "text/x-python",
   "name": "python",
   "nbconvert_exporter": "python",
   "pygments_lexer": "ipython3",
   "version": "3.7.4"
  }
 },
 "nbformat": 4,
 "nbformat_minor": 4
}
