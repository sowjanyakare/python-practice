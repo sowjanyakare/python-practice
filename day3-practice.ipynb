{
 "cells": [
  {
   "cell_type": "markdown",
   "metadata": {},
   "source": [
    "# Today concepts\n",
    "## 16-09-20202\n",
    "### Jupyter installation\n",
    "    -to install jupyter we have to run a command pip install jupyter\n",
    "    -to openjupyter note book we have to run a cmd in command prompt i.e,jupyter notebook\n",
    "# main heading\n",
    " - ###sub heading\n",
    " - ####sub heading2\n",
    " \n",
    "<h2>i am h2 tag</h2>\n",
    "<p> this is p tag</p>\n",
    "<a href=''> i am a tag</a>\n",
    "<img src=\"python-logo.png\" height=\"30%\" width=\"30%\">\n",
    "<table>\n",
    "    <tr><td>sowjanya</td><td>krishna</td></tr>\n",
    "    <tr><td>mounika</td><td>guntur</td></tr>\n",
    " </table>\n",
    "    "
   ]
  },
  {
   "cell_type": "code",
   "execution_count": 4,
   "metadata": {},
   "outputs": [
    {
     "name": "stdout",
     "output_type": "stream",
     "text": [
      "hello world\n",
      "i am using jupyter\n",
      "apssdc\n"
     ]
    },
    {
     "data": {
      "text/plain": [
       "37"
      ]
     },
     "execution_count": 4,
     "metadata": {},
     "output_type": "execute_result"
    }
   ],
   "source": [
    "print(\"hello world\")\n",
    "print(\"i am using jupyter\")\n",
    "print(\"apssdc\")\n",
    "23+14"
   ]
  },
  {
   "cell_type": "code",
   "execution_count": null,
   "metadata": {},
   "outputs": [],
   "source": []
  }
 ],
 "metadata": {
  "kernelspec": {
   "display_name": "Python 3",
   "language": "python",
   "name": "python3"
  },
  "language_info": {
   "codemirror_mode": {
    "name": "ipython",
    "version": 3
   },
   "file_extension": ".py",
   "mimetype": "text/x-python",
   "name": "python",
   "nbconvert_exporter": "python",
   "pygments_lexer": "ipython3",
   "version": "3.7.4"
  }
 },
 "nbformat": 4,
 "nbformat_minor": 4
}
