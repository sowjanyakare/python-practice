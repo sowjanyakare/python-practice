{
 "cells": [
  {
   "cell_type": "code",
   "execution_count": 23,
   "metadata": {},
   "outputs": [
    {
     "name": "stdout",
     "output_type": "stream",
     "text": [
      "Enter a Range: 5\n",
      "The range is : 5\n",
      "Enter a Value: 1\n",
      "Enter a Value: 2\n",
      "Enter a Value: 3\n",
      "Enter a Value: 4\n",
      "Enter a Value: 5\n",
      "[1, 2, 3, 4, 5]\n"
     ]
    }
   ],
   "source": [
    "li = []\n",
    "r = int(input(\"Enter a Range: \"))\n",
    "print(\"The range is :\",r)\n",
    "for i in range (r):\n",
    "        val = int(input(\"Enter a Value :\"))\n",
    "        li.append(val)\n",
    "print(li)"
   ]
  },
  {
   "cell_type": "code",
   "execution_count": 55,
   "metadata": {},
   "outputs": [
    {
     "name": "stdout",
     "output_type": "stream",
     "text": [
      "[12, 34, 44, 55, 75, 23, 456, 232]\n",
      "Length of the list is : 8\n",
      "[12, 34, 44, 456, 232]\n",
      "Sum :  778\n"
     ]
    }
   ],
   "source": [
    "li1 = []\n",
    "li = [12,34,44,55,75,23,456,232]\n",
    "print(li)\n",
    "print(\"Length of the list is :\",len(li))\n",
    "le = len(li)\n",
    "for i in range(le):\n",
    "    if(li[i] %2 == 0):\n",
    "        li1.append(li[i])\n",
    "print(li1)        \n",
    "print(\"Sum : \",sum(li1))\n",
    "    "
   ]
  },
  {
   "cell_type": "code",
   "execution_count": 66,
   "metadata": {},
   "outputs": [
    {
     "name": "stdout",
     "output_type": "stream",
     "text": [
      "[11, 22, 25, 36]\n"
     ]
    }
   ],
   "source": [
    "l = [11,22,11,25,36,36,11,25]\n",
    "l2=[]\n",
    "for i in l:\n",
    "    if i not in l2:\n",
    "        l2.append(i)\n",
    "print(l2)"
   ]
  },
  {
   "cell_type": "code",
   "execution_count": 80,
   "metadata": {},
   "outputs": [
    {
     "data": {
      "text/plain": [
       "[2, 4, 6, 8, 9, 7, 5, 3, 1]"
      ]
     },
     "execution_count": 80,
     "metadata": {},
     "output_type": "execute_result"
    }
   ],
   "source": [
    "lis = [1,2,3,4,5,6,7,8,9]\n",
    "even = []\n",
    "odd =[]\n",
    "for i in lis:\n",
    "    if i % 2 == 0:\n",
    "        even.append(i)\n",
    "    else:\n",
    "        odd.append(i)\n",
    "odd.sort(reverse=True)        \n",
    "even+odd    "
   ]
  },
  {
   "cell_type": "code",
   "execution_count": 76,
   "metadata": {},
   "outputs": [],
   "source": [
    "oddlist.sort(reverse=True)"
   ]
  },
  {
   "cell_type": "code",
   "execution_count": 77,
   "metadata": {},
   "outputs": [
    {
     "name": "stdout",
     "output_type": "stream",
     "text": [
      "[9, 7, 5, 3, 1]\n"
     ]
    }
   ],
   "source": [
    "print(odd)"
   ]
  },
  {
   "cell_type": "code",
   "execution_count": 89,
   "metadata": {},
   "outputs": [
    {
     "name": "stdout",
     "output_type": "stream",
     "text": [
      "[10, 2, 23, 5, 60]\n",
      "[2, 5, 10, 23, 60]\n",
      "Minimum value is: 2\n",
      "Second Minimum Value is: 5\n"
     ]
    }
   ],
   "source": [
    "a = [10,2,23,5,60]\n",
    "print(a)\n",
    "a.sort()\n",
    "print(a)\n",
    "print(\"Minimum value is:\",a[0])\n",
    "print(\"Second Minimum Value is:\",a[1])\n"
   ]
  },
  {
   "cell_type": "code",
   "execution_count": null,
   "metadata": {},
   "outputs": [],
   "source": []
  }
 ],
 "metadata": {
  "kernelspec": {
   "display_name": "Python 3",
   "language": "python",
   "name": "python3"
  },
  "language_info": {
   "codemirror_mode": {
    "name": "ipython",
    "version": 3
   },
   "file_extension": ".py",
   "mimetype": "text/x-python",
   "name": "python",
   "nbconvert_exporter": "python",
   "pygments_lexer": "ipython3",
   "version": "3.7.4"
  }
 },
 "nbformat": 4,
 "nbformat_minor": 4
}
