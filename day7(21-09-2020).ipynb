{
 "cells": [
  {
   "cell_type": "code",
   "execution_count": null,
   "metadata": {},
   "outputs": [],
   "source": []
  },
  {
   "cell_type": "markdown",
   "metadata": {},
   "source": [
    "## Functions\n",
    "- it is set of statements\n",
    "- used to perform a paticular task (or) it performs specific task\n",
    "- code reusability\n",
    "- we can pass values and we can return values\n",
    "- we have 2 diff functions\n",
    "    - user defined functions\n",
    "    - predefine or library or built in functions\n",
    " ### user defined functions\n",
    " - user can implement the function based on his requirment\n",
    " - syntax: def function_name(par 1,par2)\n",
    "        ''' body of function '''\n",
    " - we can implement function in 4 types ,those are:\n",
    "     - no arg and no return type\n",
    "     - no arg and return "
   ]
  },
  {
   "cell_type": "code",
   "execution_count": 8,
   "metadata": {},
   "outputs": [
    {
     "name": "stdout",
     "output_type": "stream",
     "text": [
      "hi ,im from hello()\n"
     ]
    }
   ],
   "source": [
    "# no arguments and no return value\n",
    "def hello():\n",
    "    print('hi ,im from hello()')\n",
    "hello()"
   ]
  },
  {
   "cell_type": "code",
   "execution_count": 7,
   "metadata": {},
   "outputs": [
    {
     "data": {
      "text/plain": [
       "'hai ,welcome to my world'"
      ]
     },
     "execution_count": 7,
     "metadata": {},
     "output_type": "execute_result"
    }
   ],
   "source": [
    "# no arguments and with return type\n",
    "def hello1():\n",
    "    return \"hai ,welcome to my world\"\n",
    "hello()"
   ]
  },
  {
   "cell_type": "code",
   "execution_count": 15,
   "metadata": {},
   "outputs": [
    {
     "name": "stdout",
     "output_type": "stream",
     "text": [
      "sum of 34 and 45 is: 79\n"
     ]
    }
   ],
   "source": [
    "# with arguments and no return values\n",
    "def add(x,y):\n",
    "    print('sum of', x,'and', y ,'is:',x+y)\n",
    "add(34,45)"
   ]
  },
  {
   "cell_type": "code",
   "execution_count": 26,
   "metadata": {},
   "outputs": [
    {
     "name": "stdout",
     "output_type": "stream",
     "text": [
      "sum of 34 and 67 is: 101\n"
     ]
    }
   ],
   "source": [
    "a,b=34,67\n",
    "add(a,b)"
   ]
  },
  {
   "cell_type": "code",
   "execution_count": 27,
   "metadata": {},
   "outputs": [
    {
     "name": "stdout",
     "output_type": "stream",
     "text": [
      "multiplication of 4 and 5 is: 20\n"
     ]
    }
   ],
   "source": [
    "# with arguments and with return values\n",
    "def mul(m,n):\n",
    "    return m*n\n",
    "n1,n2=4,5\n",
    "a=mul(n1,n2)\n",
    "print('multiplication of',n1,'and',n2,'is:',a)"
   ]
  },
  {
   "cell_type": "markdown",
   "metadata": {},
   "source": [
    "## task1:all arithematic operations like add,sub,mul,div,modulo,"
   ]
  },
  {
   "cell_type": "code",
   "execution_count": 4,
   "metadata": {},
   "outputs": [
    {
     "name": "stdout",
     "output_type": "stream",
     "text": [
      "enter m value :2\n",
      "enter n value :3\n",
      "sum of two numbers: 5\n",
      "subtraction of two numbers: -1\n",
      "multiplication of two numbers: 6\n",
      "sum of two numbers: 0.6666666666666666\n",
      "sum of two numbers: 2\n",
      "sum of two numbers: 0\n",
      "sum of two numbers: 4\n"
     ]
    }
   ],
   "source": [
    "def add(m,n):\n",
    "    return m+n\n",
    "def sub(m,n):\n",
    "    return m-n\n",
    "def mul(m,n):\n",
    "    return m*n\n",
    "def div(m,n):\n",
    "    return m/n\n",
    "def modulo(m,n):\n",
    "    return m%n\n",
    "def dou(m,n):\n",
    "    return m//n\n",
    "def pow(m,n):\n",
    "    return m**m\n",
    "m=int(input('enter m value :'))\n",
    "n=int(input('enter n value :'))\n",
    "print('sum of two numbers:',add(m,n))\n",
    "print('subtraction of two numbers:',sub(m,n))\n",
    "print('multiplication of two numbers:',mul(m,n))\n",
    "print('sum of two numbers:',div(m,n))\n",
    "print('sum of two numbers:',modulo(m,n))\n",
    "print('sum of two numbers:',dou(m,n))\n",
    "print('sum of two numbers:',pow(m,n))"
   ]
  },
  {
   "cell_type": "code",
   "execution_count": null,
   "metadata": {},
   "outputs": [],
   "source": []
  }
 ],
 "metadata": {
  "kernelspec": {
   "display_name": "Python 3",
   "language": "python",
   "name": "python3"
  },
  "language_info": {
   "codemirror_mode": {
    "name": "ipython",
    "version": 3
   },
   "file_extension": ".py",
   "mimetype": "text/x-python",
   "name": "python",
   "nbconvert_exporter": "python",
   "pygments_lexer": "ipython3",
   "version": "3.7.4"
  }
 },
 "nbformat": 4,
 "nbformat_minor": 4
}
