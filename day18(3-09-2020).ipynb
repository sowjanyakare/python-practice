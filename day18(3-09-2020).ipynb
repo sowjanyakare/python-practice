{
 "cells": [
  {
   "cell_type": "code",
   "execution_count": 15,
   "metadata": {},
   "outputs": [
    {
     "name": "stdout",
     "output_type": "stream",
     "text": [
      "enter a number2\n",
      "enter last number13\n",
      "2 3 5 7 11 13 "
     ]
    }
   ],
   "source": [
    "# print the in between prime numbers\n",
    "first=int(input('enter a number'))\n",
    "end=int(input('enter last number'))\n",
    "for i in range(first,end+1):\n",
    "    if(i>1):\n",
    "        c=0\n",
    "        for j in range(2,i):\n",
    "            if(i%j==0):\n",
    "                 c=c+1\n",
    "        if(c==0):\n",
    "             print(i,end=' ')\n",
    "    else:\n",
    "         print('enter starting number from 2')\n",
    "     \n",
    "     "
   ]
  },
  {
   "cell_type": "code",
   "execution_count": 26,
   "metadata": {},
   "outputs": [
    {
     "name": "stdout",
     "output_type": "stream",
     "text": [
      "enter a stringsowjanya\n",
      "enter another stringreddy\n",
      "owjanyaeddy\n"
     ]
    }
   ],
   "source": [
    "#task \n",
    "# given two strings, return their concatenation ,expect omit the first char of each\n",
    "#ex : one two=> new; sowjanya reddy=>owjanyaeddy\n",
    "\n",
    "s=input('enter a string')\n",
    "s1=input('enter another string')\n",
    "s3=s[1:]+s1[1:]\n",
    "print(s3)\n",
    "\n"
   ]
  },
  {
   "cell_type": "code",
   "execution_count": null,
   "metadata": {},
   "outputs": [],
   "source": []
  }
 ],
 "metadata": {
  "kernelspec": {
   "display_name": "Python 3",
   "language": "python",
   "name": "python3"
  },
  "language_info": {
   "codemirror_mode": {
    "name": "ipython",
    "version": 3
   },
   "file_extension": ".py",
   "mimetype": "text/x-python",
   "name": "python",
   "nbconvert_exporter": "python",
   "pygments_lexer": "ipython3",
   "version": "3.7.4"
  }
 },
 "nbformat": 4,
 "nbformat_minor": 4
}
