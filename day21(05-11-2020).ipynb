{
 "cells": [
  {
   "cell_type": "code",
   "execution_count": 16,
   "metadata": {
    "scrolled": true
   },
   "outputs": [
    {
     "name": "stdout",
     "output_type": "stream",
     "text": [
      "4 10\n"
     ]
    }
   ],
   "source": [
    "with open('datafiles/input1.text','a') as ft:\n",
    "    p=input()\n",
    "    ft.write(p+'\\n')"
   ]
  },
  {
   "cell_type": "code",
   "execution_count": 12,
   "metadata": {},
   "outputs": [
    {
     "name": "stdout",
     "output_type": "stream",
     "text": [
      "12 34\n",
      "12 34 <class 'str'>\n",
      "3 <class 'str'>\n"
     ]
    }
   ],
   "source": [
    "n=input()\n",
    "print(n,type(n))\n",
    "t=n[3]\n",
    "print(t,type(t))"
   ]
  },
  {
   "cell_type": "code",
   "execution_count": 17,
   "metadata": {},
   "outputs": [
    {
     "name": "stdout",
     "output_type": "stream",
     "text": [
      "2 10\n",
      "2 * 01 = 02\n",
      "2 * 02 = 04\n",
      "2 * 03 = 06\n",
      "2 * 04 = 08\n",
      "2 * 05 = 10\n",
      "2 * 06 = 12\n",
      "2 * 07 = 14\n",
      "2 * 08 = 16\n",
      "2 * 09 = 18\n",
      "2 * 10 = 20\n"
     ]
    }
   ],
   "source": [
    "n=input().split()\n",
    "t=int(n[0])\n",
    "r=int(n[1])\n",
    "for i in range(1,r+1):\n",
    "    print(\"{} * {:02} = {:02}\".format(t,i,t*i))"
   ]
  },
  {
   "cell_type": "code",
   "execution_count": 17,
   "metadata": {},
   "outputs": [],
   "source": [
    "with open(\"datafiles/input1.text\",\"r\") as fr:\n",
    "    r=fr.readlines()\n",
    "    with open(\"datafiles/output1.text\",\"a\") as fp:\n",
    "        for t in r:\n",
    "            y=t.split(\"\\n\")[0]\n",
    "            p=y.split()\n",
    "            ta=int(p[0])\n",
    "            ra=int(p[1])\n",
    "            m = \"\"\n",
    "            for i in range(1,ra+1):\n",
    "                m = m+'{} * {} = {}'.format(ta,i,ta*i)+'\\n'\n",
    "            fp.write(m+\"\\n\")\n"
   ]
  },
  {
   "cell_type": "code",
   "execution_count": null,
   "metadata": {},
   "outputs": [],
   "source": [
    "studentmarks.text:\n",
    "    ------------------------------------------------------------------\n",
    "   | s.no | name  | maths  | physics |  chemistry  | hindi  | telugu |\n",
    "   -------------------------------------------------------------------\n",
    "   | 01   | sony  | 89      |90      |  79          | 65     | 99    |\n",
    "    ------------------------------------------------------------------\n",
    "    \n",
    "studentsgrade.text\n",
    "    s.no   name   total   grade\n",
    "    01     sony    590    A\n"
   ]
  },
  {
   "cell_type": "code",
   "execution_count": null,
   "metadata": {},
   "outputs": [],
   "source": []
  }
 ],
 "metadata": {
  "kernelspec": {
   "display_name": "Python 3",
   "language": "python",
   "name": "python3"
  },
  "language_info": {
   "codemirror_mode": {
    "name": "ipython",
    "version": 3
   },
   "file_extension": ".py",
   "mimetype": "text/x-python",
   "name": "python",
   "nbconvert_exporter": "python",
   "pygments_lexer": "ipython3",
   "version": "3.7.4"
  }
 },
 "nbformat": 4,
 "nbformat_minor": 4
}
