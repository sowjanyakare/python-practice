{
 "cells": [
  {
   "cell_type": "code",
   "execution_count": null,
   "metadata": {},
   "outputs": [],
   "source": [
    "def swap_case(s):\n",
    "    return\n",
    "s=input()\n",
    "print(swap_case(s))"
   ]
  },
  {
   "cell_type": "code",
   "execution_count": null,
   "metadata": {},
   "outputs": [],
   "source": [
    "p = \"HackerRank.com presents 'Pythonist 2'.\"\n",
    "print(p.lower())\n",
    "print(p.capitalize())\n",
    "print(p.title())\n",
    "print(swap_case(p))"
   ]
  },
  {
   "cell_type": "code",
   "execution_count": null,
   "metadata": {},
   "outputs": [],
   "source": [
    "print(dir(str))"
   ]
  },
  {
   "cell_type": "code",
   "execution_count": null,
   "metadata": {},
   "outputs": [],
   "source": [
    "a=\"this is sample example\"\n",
    "w=a.split()\n",
    "print(w)"
   ]
  },
  {
   "cell_type": "code",
   "execution_count": null,
   "metadata": {},
   "outputs": [],
   "source": [
    "r = \"ShamaAmmu\"\n",
    "n = input()\n",
    "c = r.split(n)\n",
    "print(c)"
   ]
  },
  {
   "cell_type": "code",
   "execution_count": null,
   "metadata": {},
   "outputs": [],
   "source": [
    "y = \"asr@R%qYd&uq\"\n",
    "for i in (y,1,' @ '):\n",
    "    print(y[1::2])"
   ]
  },
  {
   "cell_type": "code",
   "execution_count": 54,
   "metadata": {},
   "outputs": [
    {
     "ename": "SyntaxError",
     "evalue": "invalid syntax (<ipython-input-54-5e5650bba91e>, line 6)",
     "output_type": "error",
     "traceback": [
      "\u001b[1;36m  File \u001b[1;32m\"<ipython-input-54-5e5650bba91e>\"\u001b[1;36m, line \u001b[1;32m6\u001b[0m\n\u001b[1;33m    e+=t[l]+\u001b[0m\n\u001b[1;37m            ^\u001b[0m\n\u001b[1;31mSyntaxError\u001b[0m\u001b[1;31m:\u001b[0m invalid syntax\n"
     ]
    }
   ],
   "source": [
    "def oddpc(t):\n",
    "    e = \" \"\n",
    "    print(\"Odd place position characters are: \",end=\" \")\n",
    "    for l in range(len(t)):\n",
    "        if l%2!=0:\n",
    "            e+=t[l]+\n",
    "    return e\n",
    "def evenpc(y):\n",
    "    u = \" \"\n",
    "    print(\"\\nEven place position characters are: \",end=\" \")\n",
    "    for l in range(len(y)):\n",
    "        if l%2!=0:\n",
    "            u+=y[l]+\n",
    "    return u   \n",
    "def spch(d):\n",
    "    u,l,i,s = \"\",\"\",\"\",\"\"\n",
    "    for v in d:\n",
    "        print(v,end=\" \")\n",
    "    else v.islower():\n",
    "        l+=v+\" \"\n",
    "    else if v.isdecimal():\n",
    "        i+=v+\" \"\n",
    "        \n",
    "m = \"asr@R%qYd&uq\" \n",
    "spch(m)\n",
    "# q = oddpc(m)\n",
    "# for b in q:\n",
    "#     print(b,end=\" \")\n",
    "# z = evenpc(m)\n",
    "# for x in z:\n",
    "#     print(x,end=\" \")\n",
    "# print(\"\\nOdd place position character count is :{}\".formate(len(q)))  \n",
    "# print(\"\\nEven place position character count is :{}\".formate(len(z))) "
   ]
  },
  {
   "cell_type": "code",
   "execution_count": null,
   "metadata": {},
   "outputs": [],
   "source": []
  }
 ],
 "metadata": {
  "kernelspec": {
   "display_name": "Python 3",
   "language": "python",
   "name": "python3"
  },
  "language_info": {
   "codemirror_mode": {
    "name": "ipython",
    "version": 3
   },
   "file_extension": ".py",
   "mimetype": "text/x-python",
   "name": "python",
   "nbconvert_exporter": "python",
   "pygments_lexer": "ipython3",
   "version": "3.7.4"
  }
 },
 "nbformat": 4,
 "nbformat_minor": 4
}
