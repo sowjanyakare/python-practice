{
 "cells": [
  {
   "cell_type": "markdown",
   "metadata": {},
   "source": [
    "# keywords\n",
    "    - Assignment operator\n",
    "    - membership operators\n",
    "    - identity operators"
   ]
  },
  {
   "cell_type": "markdown",
   "metadata": {},
   "source": [
    "# Assigment operators\n",
    "    - =,+=,-=,*=,/=,\n",
    "    "
   ]
  },
  {
   "cell_type": "code",
   "execution_count": 6,
   "metadata": {},
   "outputs": [],
   "source": [
    "a=10\n",
    "a=a+1"
   ]
  },
  {
   "cell_type": "code",
   "execution_count": 10,
   "metadata": {},
   "outputs": [],
   "source": [
    "a*=2"
   ]
  },
  {
   "cell_type": "code",
   "execution_count": 8,
   "metadata": {},
   "outputs": [],
   "source": [
    "a=9\n",
    "a+=2"
   ]
  },
  {
   "cell_type": "code",
   "execution_count": 9,
   "metadata": {},
   "outputs": [
    {
     "data": {
      "text/plain": [
       "11"
      ]
     },
     "execution_count": 9,
     "metadata": {},
     "output_type": "execute_result"
    }
   ],
   "source": [
    "a"
   ]
  },
  {
   "cell_type": "code",
   "execution_count": 11,
   "metadata": {},
   "outputs": [
    {
     "data": {
      "text/plain": [
       "22"
      ]
     },
     "execution_count": 11,
     "metadata": {},
     "output_type": "execute_result"
    }
   ],
   "source": [
    "a"
   ]
  },
  {
   "cell_type": "markdown",
   "metadata": {},
   "source": [
    "# membership operators\n",
    "    - by using opeartors we will identify a paticular element belongs to a group or not\n",
    "    - they are in,not in"
   ]
  },
  {
   "cell_type": "code",
   "execution_count": 12,
   "metadata": {},
   "outputs": [
    {
     "data": {
      "text/plain": [
       "True"
      ]
     },
     "execution_count": 12,
     "metadata": {},
     "output_type": "execute_result"
    }
   ],
   "source": [
    "arr=[1,2,3,4,5]\n",
    "inp=3\n",
    "inp in arr"
   ]
  },
  {
   "cell_type": "code",
   "execution_count": 13,
   "metadata": {},
   "outputs": [
    {
     "data": {
      "text/plain": [
       "False"
      ]
     },
     "execution_count": 13,
     "metadata": {},
     "output_type": "execute_result"
    }
   ],
   "source": [
    "90 in arr"
   ]
  },
  {
   "cell_type": "code",
   "execution_count": 14,
   "metadata": {},
   "outputs": [
    {
     "data": {
      "text/plain": [
       "True"
      ]
     },
     "execution_count": 14,
     "metadata": {},
     "output_type": "execute_result"
    }
   ],
   "source": [
    "name=\"sowjanya reddy\"\n",
    "'reddy' in name"
   ]
  },
  {
   "cell_type": "code",
   "execution_count": 15,
   "metadata": {},
   "outputs": [
    {
     "data": {
      "text/plain": [
       "True"
      ]
     },
     "execution_count": 15,
     "metadata": {},
     "output_type": "execute_result"
    }
   ],
   "source": [
    "bits='000100111'\n",
    "'00' in bits"
   ]
  },
  {
   "cell_type": "code",
   "execution_count": 16,
   "metadata": {},
   "outputs": [
    {
     "data": {
      "text/plain": [
       "False"
      ]
     },
     "execution_count": 16,
     "metadata": {},
     "output_type": "execute_result"
    }
   ],
   "source": [
    "4 not in arr"
   ]
  },
  {
   "cell_type": "markdown",
   "metadata": {},
   "source": [
    "### Identity operators\n",
    "\n",
    "    - by using this operator we can compare values\n",
    "    - they are is ,is not"
   ]
  },
  {
   "cell_type": "code",
   "execution_count": 17,
   "metadata": {},
   "outputs": [
    {
     "data": {
      "text/plain": [
       "False"
      ]
     },
     "execution_count": 17,
     "metadata": {},
     "output_type": "execute_result"
    }
   ],
   "source": [
    "'sowjanya'is 'sowjanya reddy'"
   ]
  },
  {
   "cell_type": "code",
   "execution_count": 18,
   "metadata": {},
   "outputs": [
    {
     "data": {
      "text/plain": [
       "True"
      ]
     },
     "execution_count": 18,
     "metadata": {},
     "output_type": "execute_result"
    }
   ],
   "source": [
    "'kavya'is not 'kavya reddy'"
   ]
  },
  {
   "cell_type": "code",
   "execution_count": 19,
   "metadata": {},
   "outputs": [
    {
     "data": {
      "text/plain": [
       "False"
      ]
     },
     "execution_count": 19,
     "metadata": {},
     "output_type": "execute_result"
    }
   ],
   "source": [
    "123 is 345"
   ]
  },
  {
   "cell_type": "markdown",
   "metadata": {},
   "source": [
    "## Conditional control statements\n",
    "- it controls the flow of execution based on condition\n",
    "- for that we have few different type of statements\n",
    "    - conditional stat\n",
    "    - looping stat\n",
    "    - jump stat"
   ]
  },
  {
   "cell_type": "markdown",
   "metadata": {},
   "source": [
    "### conditional stat\n",
    " - if\n",
    "     - if(condition):\n",
    "           statement\n",
    " - if else\n",
    " - nested if\n",
    " - else if ladder"
   ]
  },
  {
   "cell_type": "code",
   "execution_count": 20,
   "metadata": {},
   "outputs": [
    {
     "name": "stdout",
     "output_type": "stream",
     "text": [
      "print 3 less than 5\n"
     ]
    }
   ],
   "source": [
    "if (3<5):\n",
    "    print(\"print 3 less than 5\")"
   ]
  },
  {
   "cell_type": "code",
   "execution_count": 21,
   "metadata": {},
   "outputs": [],
   "source": [
    "if(4>6):\n",
    "    print(\"true\")"
   ]
  },
  {
   "cell_type": "code",
   "execution_count": 33,
   "metadata": {},
   "outputs": [
    {
     "name": "stdout",
     "output_type": "stream",
     "text": [
      "out of if\n"
     ]
    }
   ],
   "source": [
    "if (51<5):\n",
    "    print('true')\n",
    "    print('5 is small')\n",
    "print('out of if')"
   ]
  },
  {
   "cell_type": "code",
   "execution_count": 34,
   "metadata": {},
   "outputs": [
    {
     "name": "stdout",
     "output_type": "stream",
     "text": [
      " i am else block \n",
      "i am under if else block\n"
     ]
    }
   ],
   "source": [
    "if(2>5):\n",
    "    print(\"i inside if block\")\n",
    "else:\n",
    "    print(\" i am else block \")\n",
    "print('i am under if else block')"
   ]
  },
  {
   "cell_type": "code",
   "execution_count": 36,
   "metadata": {},
   "outputs": [
    {
     "name": "stdout",
     "output_type": "stream",
     "text": [
      "4 is existed in between 5 and 6\n"
     ]
    }
   ],
   "source": [
    "if (3<5):\n",
    "    if(4<6):\n",
    "        print(\"4 is existed in between 5 and 6\")\n",
    "    else:\n",
    "        print('wrong choice')\n",
    "else:\n",
    "    print(\"try again\")"
   ]
  },
  {
   "cell_type": "code",
   "execution_count": 37,
   "metadata": {},
   "outputs": [
    {
     "name": "stdout",
     "output_type": "stream",
     "text": [
      "4 is existed in between 5 and 6\n"
     ]
    }
   ],
   "source": [
    "if(3<5 and 4<6):\n",
    "     print(\"4 is existed in between 5 and 6\")\n",
    "    \n"
   ]
  },
  {
   "cell_type": "code",
   "execution_count": 39,
   "metadata": {},
   "outputs": [
    {
     "name": "stdout",
     "output_type": "stream",
     "text": [
      "i am elif2\n"
     ]
    }
   ],
   "source": [
    "if(34>67):\n",
    "    print('true')\n",
    "elif(34<34):\n",
    "    print('i am statement from elif 1')\n",
    "elif(34<78):\n",
    "    print('i am elif2')\n",
    "else:\n",
    "    print(\"false\")"
   ]
  },
  {
   "cell_type": "markdown",
   "metadata": {},
   "source": [
    "# task1: write a logic to find biggest of two numbers 34 and 2234 \n",
    "    - take values from user\n",
    "# task2:biggest of three numbers\n",
    "# task3:even or not\n",
    " - if it is even print power of that value, otherwise print  multiply that value with 5\n",
    " \n",
    "# task4:write a logic to find  a give number is 5 multiple or not\n"
   ]
  },
  {
   "cell_type": "code",
   "execution_count": 4,
   "metadata": {},
   "outputs": [
    {
     "name": "stdout",
     "output_type": "stream",
     "text": [
      "enter a value34\n",
      "enter b value2234\n",
      "2234 is big\n"
     ]
    }
   ],
   "source": [
    "# biggest of two numbers\n",
    "a=int(input(\"enter a value\"))\n",
    "b=int(input(\"enter b value\"))\n",
    "if(a>b):\n",
    "    print(a,'is big')\n",
    "else:\n",
    "    print(b,'is big')"
   ]
  },
  {
   "cell_type": "code",
   "execution_count": 7,
   "metadata": {},
   "outputs": [
    {
     "name": "stdout",
     "output_type": "stream",
     "text": [
      "enter a value13\n",
      "enter b value200\n",
      "enter c value67\n",
      "200 is big\n"
     ]
    }
   ],
   "source": [
    "# biggest of three numbers\n",
    "a=int(input(\"enter a value\"))\n",
    "b=int(input(\"enter b value\"))\n",
    "c=int(input(\"enter c value\"))\n",
    "if(a>b and a>c):\n",
    "    print(a,'is big')\n",
    "elif(b>c):\n",
    "    print(b,'is big')\n",
    "else:\n",
    "    print(c,'is big')\n",
    "\n"
   ]
  },
  {
   "cell_type": "code",
   "execution_count": 8,
   "metadata": {},
   "outputs": [
    {
     "name": "stdout",
     "output_type": "stream",
     "text": [
      "enter a value3\n",
      "multipling with 5: 15\n"
     ]
    }
   ],
   "source": [
    "# even or not\n",
    "x=int(input(\"enter a value\"))\n",
    "if(x%2==0):\n",
    "    print(\"number is even\")\n",
    "    print(\"power of that value is\",pow(x,x))\n",
    "else:\n",
    "    print(\"multipling with 5:\",x*5)"
   ]
  },
  {
   "cell_type": "code",
   "execution_count": null,
   "metadata": {},
   "outputs": [],
   "source": [
    "val=int(input(\"enter a value\"))\n",
    "if(val%5==0):\n",
    "    print(val,\"is multiple of 5\")\n",
    "else:\n",
    "    print(val,'is not multiple of 5')"
   ]
  },
  {
   "cell_type": "code",
   "execution_count": null,
   "metadata": {},
   "outputs": [],
   "source": []
  }
 ],
 "metadata": {
  "kernelspec": {
   "display_name": "Python 3",
   "language": "python",
   "name": "python3"
  },
  "language_info": {
   "codemirror_mode": {
    "name": "ipython",
    "version": 3
   },
   "file_extension": ".py",
   "mimetype": "text/x-python",
   "name": "python",
   "nbconvert_exporter": "python",
   "pygments_lexer": "ipython3",
   "version": "3.7.4"
  }
 },
 "nbformat": 4,
 "nbformat_minor": 4
}
